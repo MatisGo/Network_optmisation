{
 "cells": [
  {
   "cell_type": "code",
   "execution_count": 1,
   "id": "bf8330a8",
   "metadata": {},
   "outputs": [
    {
     "name": "stdout",
     "output_type": "stream",
     "text": [
      "test\n",
      "test2\n",
      "test Guillaume\n"
     ]
    }
   ],
   "source": [
    "print(\"test\")\n",
    "print(\"test2\")\n",
    "print(\"test Guillaume\")"
   ]
  },
  {
   "cell_type": "markdown",
   "id": "9f664108",
   "metadata": {},
   "source": []
  }
 ],
 "metadata": {
  "kernelspec": {
   "display_name": "Python 3",
   "language": "python",
   "name": "python3"
  },
  "language_info": {
   "codemirror_mode": {
    "name": "ipython",
    "version": 3
   },
   "file_extension": ".py",
   "mimetype": "text/x-python",
   "name": "python",
   "nbconvert_exporter": "python",
   "pygments_lexer": "ipython3",
   "version": "3.11.8"
  }
 },
 "nbformat": 4,
 "nbformat_minor": 5
}
