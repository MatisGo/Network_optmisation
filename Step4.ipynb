{
 "cells": [
  {
   "cell_type": "markdown",
   "metadata": {},
   "source": [
    "**READ MJ2505 - OPTMIZATION_TUTORIAL_INSTRUCTIONS.PDF**"
   ]
  },
  {
   "cell_type": "markdown",
   "metadata": {},
   "source": [
    "**Installing required packages**"
   ]
  },
  {
   "cell_type": "code",
   "execution_count": 1,
   "metadata": {},
   "outputs": [
    {
     "name": "stdout",
     "output_type": "stream",
     "text": [
      "^C\n",
      "Note: you may need to restart the kernel to use updated packages.\n"
     ]
    },
    {
     "name": "stdout",
     "output_type": "stream",
     "text": [
      "Requirement already satisfied: pulp in c:\\users\\matis\\appdata\\local\\programs\\python\\python312\\lib\\site-packages (3.2.2)\n"
     ]
    }
   ],
   "source": [
    "pip install pulp"
   ]
  },
  {
   "cell_type": "code",
   "execution_count": 2,
   "metadata": {},
   "outputs": [
    {
     "name": "stdout",
     "output_type": "stream",
     "text": [
      "Requirement already satisfied: numpy in c:\\users\\matis\\appdata\\local\\programs\\python\\python312\\lib\\site-packages (2.1.2)\n",
      "Note: you may need to restart the kernel to use updated packages.\n"
     ]
    }
   ],
   "source": [
    "pip install numpy"
   ]
  },
  {
   "cell_type": "code",
   "execution_count": 7,
   "metadata": {},
   "outputs": [
    {
     "name": "stdout",
     "output_type": "stream",
     "text": [
      "Collecting XlsxWriter\n",
      "  Downloading xlsxwriter-3.2.5-py3-none-any.whl.metadata (2.7 kB)\n",
      "Downloading xlsxwriter-3.2.5-py3-none-any.whl (172 kB)\n",
      "Installing collected packages: XlsxWriter\n",
      "Successfully installed XlsxWriter-3.2.5\n",
      "Note: you may need to restart the kernel to use updated packages.\n"
     ]
    }
   ],
   "source": [
    "pip install XlsxWriter"
   ]
  },
  {
   "cell_type": "code",
   "execution_count": 4,
   "metadata": {},
   "outputs": [
    {
     "name": "stdout",
     "output_type": "stream",
     "text": [
      "Requirement already satisfied: pandas in c:\\users\\matis\\appdata\\local\\programs\\python\\python312\\lib\\site-packages (2.2.3)\n",
      "Requirement already satisfied: numpy>=1.26.0 in c:\\users\\matis\\appdata\\local\\programs\\python\\python312\\lib\\site-packages (from pandas) (2.1.2)\n",
      "Requirement already satisfied: python-dateutil>=2.8.2 in c:\\users\\matis\\appdata\\local\\programs\\python\\python312\\lib\\site-packages (from pandas) (2.9.0.post0)\n",
      "Requirement already satisfied: pytz>=2020.1 in c:\\users\\matis\\appdata\\local\\programs\\python\\python312\\lib\\site-packages (from pandas) (2024.2)\n",
      "Requirement already satisfied: tzdata>=2022.7 in c:\\users\\matis\\appdata\\local\\programs\\python\\python312\\lib\\site-packages (from pandas) (2024.1)\n",
      "Requirement already satisfied: six>=1.5 in c:\\users\\matis\\appdata\\local\\programs\\python\\python312\\lib\\site-packages (from python-dateutil>=2.8.2->pandas) (1.16.0)\n",
      "Note: you may need to restart the kernel to use updated packages.\n"
     ]
    }
   ],
   "source": [
    "pip install pandas"
   ]
  },
  {
   "cell_type": "markdown",
   "metadata": {},
   "source": [
    "**Import the required libraries**"
   ]
  },
  {
   "cell_type": "code",
   "execution_count": 8,
   "metadata": {},
   "outputs": [],
   "source": [
    "import pandas as pd\n",
    "import pulp as pl\n",
    "import numpy as np\n",
    "import xlsxwriter as xl"
   ]
  },
  {
   "cell_type": "markdown",
   "metadata": {},
   "source": [
    "**Import the data for the optimization from excel sheet**\n",
    "\n",
    "*Price data in SEK/kWh*\n",
    "*Demand in kWh*\n",
    "*EV_ availability is binary value*"
   ]
  },
  {
   "cell_type": "code",
   "execution_count": 10,
   "metadata": {},
   "outputs": [],
   "source": [
    "#input data reading from excel\n",
    "days = 7 # number of days of simulation\n",
    "worksheet = pd.read_excel('Input_data.xlsx')\n",
    "\n",
    "#hourly electricity price\n",
    "EV_available = worksheet.iloc[0:days*24, 1]\n",
    "Demand = worksheet.iloc[0:days*24, 2]\n",
    "Price_data = worksheet.iloc[0:days*24, 3]\n",
    "SolarPV_generation = worksheet.iloc[0:days*24,4]"
   ]
  },
  {
   "cell_type": "markdown",
   "metadata": {},
   "source": [
    "**Parameters for optimization**"
   ]
  },
  {
   "cell_type": "code",
   "execution_count": 11,
   "metadata": {},
   "outputs": [],
   "source": [
    "Battery_capacity = 40 #Size of the EV battery in kWh\n",
    "C_Rating = 1 #The rate at which the battery charges.\n",
    "# The capacity of a battery is commonly rated at 1C, meaning that a fully charged battery rated at 1Ah should provide 1A for one hour\\n\",\n",
    "Ptrafo = 1200 #The capacity is in kW\n",
    "\n",
    "CS_losses = 0.96 #charging losses\n",
    "DS_losses = 1.041 #discharging losses\n",
    "\n",
    "\n",
    "Start_storage = 0.2*Battery_capacity # Initial Battery Capacity to start with\n",
    "\n",
    "#We have one EV charger installed in a house\n",
    "Charger_Power = 7.2 #Rated EV charger in kW- each charge will be able to supply this capacity"
   ]
  },
  {
   "cell_type": "markdown",
   "metadata": {},
   "source": [
    "**Defining sets**"
   ]
  },
  {
   "cell_type": "code",
   "execution_count": 12,
   "metadata": {},
   "outputs": [
    {
     "name": "stdout",
     "output_type": "stream",
     "text": [
      "[0, 1, 2, 3, 4, 5, 6, 7, 8, 9, 10, 11, 12, 13, 14, 15, 16, 17, 18, 19, 20, 21, 22, 23]\n",
      "[0, 1, 2, 3, 4, 5, 6, 7, 8, 9, 10, 11, 12, 13, 14, 15, 16, 17, 18, 19, 20, 21, 22, 23, 24]\n"
     ]
    }
   ],
   "source": [
    "# time series parameter\n",
    "#This is important for assigning the variables that are used in the optimization. \n",
    "#In python, you have to initialize lists/tuples/dictionaries first if they are used at some later point in the code.\n",
    "\n",
    "Price = {x:1 for x in range(25)}\n",
    "Demand_hourly = {x:1 for x in range(25)}\n",
    "EV_availability = {x:1 for x in range(25)}\n",
    "SolarPV = {x:1 for x in range(25)}\n",
    "\n",
    "#sets initialization\n",
    "I = list(range(24))\n",
    "J = list(range(25)) #We have this until 25 , one  extra hour so as to ensure that the the storage level at the end of the day, acts as start storage level for enxt day\n",
    "print(I)\n",
    "print(J)"
   ]
  },
  {
   "cell_type": "markdown",
   "metadata": {},
   "source": [
    "**Defining excel file for writing results**"
   ]
  },
  {
   "cell_type": "code",
   "execution_count": 13,
   "metadata": {},
   "outputs": [
    {
     "data": {
      "text/plain": [
       "0"
      ]
     },
     "execution_count": 13,
     "metadata": {},
     "output_type": "execute_result"
    }
   ],
   "source": [
    "workbook = xl.Workbook('Results_optimization.xlsx')\n",
    "worksheet = workbook.add_worksheet()\n",
    "\n",
    "worksheet.write(0, 0, 'Days')\n",
    "worksheet.write(0, 1, 'Hour')\n",
    "worksheet.write(0, 2, 'Demand')\n",
    "worksheet.write(0, 3, 'SolarPV')\n",
    "worksheet.write(0, 4, 'EV Available')\n",
    "worksheet.write(0, 5, 'Charging power') #Total charging in an hour\n",
    "worksheet.write(0, 6, 'Storage Level') #Total storage level in the battery of EV\n",
    "worksheet.write(0, 7, 'Purchase from the grid') #Total amount of electricity purchased from the grid\n",
    "worksheet.write(0, 8, 'SolarPV_consumption') \n",
    "worksheet.write(0, 9, 'Price') \n",
    "worksheet.write(0, 10, 'Cost of supply from grid') #Total of price*purchased electricity from the grid in an hour"
   ]
  },
  {
   "cell_type": "markdown",
   "metadata": {},
   "source": [
    "**Function to move from one day to another**"
   ]
  },
  {
   "cell_type": "code",
   "execution_count": 17,
   "metadata": {},
   "outputs": [],
   "source": [
    "#Here we write a function which can be called repeatedly where needed in the code\n",
    "#This function is meant to fetch the data for each 24 hours of the optimization window.\n",
    "#We run the optimization for every 24 hours and then it runs for the whole week\n",
    "\n",
    "def assign(d):\n",
    "    for y in I:\n",
    "        Price[y] = Price_data[d*24 + y]\n",
    "        Demand_hourly[y] = Demand[d*24 + y]\n",
    "        EV_availability[y] = EV_available[d*24 + y]\n",
    "        SolarPV[y] = SolarPV_generation[d*24 + y]"
   ]
  },
  {
   "cell_type": "markdown",
   "metadata": {},
   "source": [
    "**Function where the optimization algorithm with contraints, objective functions and writing results is defined**"
   ]
  },
  {
   "cell_type": "code",
   "execution_count": 18,
   "metadata": {},
   "outputs": [],
   "source": [
    "# Optimization model- Here we define another function\n",
    "#Global variables are those values which are constant and will be accessed by the function. Therefore, it is important to assign them at the beginning of function\n",
    "#You can try by removing one of them and the function will start producing an error\n",
    "\n",
    "def Optimize():\n",
    "    global Start_storage #Initiating variable for starting the storage of charged units\n",
    "    global Battery_capacity #This is parameter as defined in the beginning\n",
    "    global Charger_Power # This is parameter defined above\n",
    "    global Ptrafo\n",
    "    \n",
    "\n",
    "    model = pl.LpProblem(\"Cost_minimize_charging_problem\", pl.LpMinimize) # Here we define if the problem is minimization or maximization\n",
    "\n",
    "    # Decision variables- The ones which offer flexibility and decision making  capability to optimizer\n",
    "    \n",
    "    Grid_purchase = pl.LpVariable.dicts('Grid_purchase', I, cat='Continuous', lowBound=0) # Syntax to specify the characteriestics of the variable\n",
    "    Storage_level = pl.LpVariable.dicts('Storage_level', J,cat='Continuous', lowBound=0.2*Battery_capacity, upBound=0.8*Battery_capacity)\n",
    "    Charge_hourly = pl.LpVariable.dicts('Charge_hourly', I, cat='Continuous', lowBound=0) #Amount of charge every hour, CS\n",
    "    EV_charging_power = pl.LpVariable.dicts('EV_charging_power', I,cat='Continuous', lowBound=0)\n",
    "    \n",
    "    # Constraints\n",
    "    \n",
    "    #Storage level constraint\n",
    "    model += Storage_level[0] == Start_storage       #Start of level of storage\n",
    "    \n",
    "    #in every hour\n",
    "    for i in I:\n",
    "        \n",
    "        model += Grid_purchase[i] - Charge_hourly[i] - Demand_hourly[i] + SolarPV[i] == 0 # Energy Balance Constraint\n",
    "        model += Grid_purchase[i] <= Ptrafo # Grid limit constraint\n",
    "        \n",
    "        model += Charge_hourly[i] <= C_Rating*Charger_Power*EV_availability[i] # Maximum charging limit in an hour\n",
    "        \n",
    "        if EV_availability[i] == 1 and EV_availability[i+1] == 0: # If EV leaves the house, the storage level\n",
    "            model += Storage_level[i+1] == 0.8*Battery_capacity\n",
    "            \n",
    "        if EV_availability[i] == 0: #If EV is not available for charging\n",
    "            model += Storage_level[i+1] == 0.2* Battery_capacity   \n",
    "            \n",
    "        if EV_availability[i] == 1: #If EV is avialable for charging           \n",
    "            model += Storage_level[i+1] == Storage_level[i] + Charge_hourly[i]*CS_losses\n",
    "       \n",
    "        \n",
    "  # Objective Function\n",
    "    model += pl.lpSum (Grid_purchase[i]*Price[i] for i in I) #Defining the objective function\n",
    "    model.solve()\n",
    "    \n",
    "    Start_storage = Storage_level[24].varValue      #for the next day we have to store the storage level of last hour of previous day\n",
    "\n",
    "   #Writing results \n",
    "    for y in I:\n",
    "        \n",
    "        worksheet.write(x*24+y+1, 0, x+1) # Print number of days in excel\n",
    "        worksheet.write(x*24+y+1, 1, y) # Print hours\n",
    "        worksheet.write(x*24+y+1, 2, Demand_hourly[y])\n",
    "        worksheet.write(x*24+y+1, 3, SolarPV[y])\n",
    "        worksheet.write(x*24+y+1, 4, EV_availability[y])\n",
    "        worksheet.write(x*24+y+1, 5, Charge_hourly[y].varValue)\n",
    "        worksheet.write(x*24+y+1, 6, Storage_level[y].varValue)\n",
    "        worksheet.write(x*24+y+1, 7, Grid_purchase[y].varValue)\n",
    "        #worksheet.write(x*24+y+1, 8, Demand_hourly[y].varValue-Grid_purchase[y].varValue)\n",
    "        worksheet.write(x*24+y+1, 9, Price[y])\n",
    "        worksheet.write(x*24+y+1, 10, Grid_purchase[y].varValue*Price[y])\n",
    "            \n",
    "  #Running the model code\n",
    "\n",
    "    model.solve()\n",
    "    #Printing some results, not necessary though\n",
    "    print('Day:')\n",
    "    print(x+1)\n",
    "    print (pl.LpStatus[model.status])\n",
    "    print (pl.value(model.objective))"
   ]
  },
  {
   "cell_type": "markdown",
   "metadata": {},
   "source": [
    "**Run the model**"
   ]
  },
  {
   "cell_type": "code",
   "execution_count": 19,
   "metadata": {},
   "outputs": [
    {
     "name": "stdout",
     "output_type": "stream",
     "text": [
      "Day:\n",
      "1\n",
      "Optimal\n",
      "3.4135777116000003\n",
      "Day:\n",
      "2\n",
      "Optimal\n",
      "3.4659500972000004\n",
      "Day:\n",
      "3\n",
      "Optimal\n",
      "2.5087045708\n",
      "Day:\n",
      "4\n",
      "Optimal\n",
      "2.77092342515\n",
      "Day:\n",
      "5\n",
      "Optimal\n",
      "2.5670029479000003\n",
      "Day:\n",
      "6\n",
      "Optimal\n",
      "2.4011329717000005\n",
      "Day:\n",
      "7\n",
      "Optimal\n",
      "1.91931091725\n"
     ]
    }
   ],
   "source": [
    "#Using the function optimize to run the model for assigned set of data, here in our case it is one week as provided in the input data sheet\n",
    "\n",
    "for x in range(days):\n",
    "    assign(x) #Calling the data assignmment function\n",
    "    Optimize()# Calling the optimize function\n",
    "workbook.close()\n"
   ]
  }
 ],
 "metadata": {
  "kernelspec": {
   "display_name": "Python 3",
   "language": "python",
   "name": "python3"
  },
  "language_info": {
   "codemirror_mode": {
    "name": "ipython",
    "version": 3
   },
   "file_extension": ".py",
   "mimetype": "text/x-python",
   "name": "python",
   "nbconvert_exporter": "python",
   "pygments_lexer": "ipython3",
   "version": "3.12.6"
  }
 },
 "nbformat": 4,
 "nbformat_minor": 4
}
