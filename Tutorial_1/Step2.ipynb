{
 "cells": [
  {
   "cell_type": "markdown",
   "metadata": {},
   "source": [
    "## STEP 2"
   ]
  },
  {
   "cell_type": "markdown",
   "metadata": {},
   "source": [
    "in this step we build a network bellonging to Vattenfall 'Island - Study Case.docx'. If we look at the one line diagram provided by them this network consist of:\n",
    "\n",
    "- 5 trafos\n",
    "\n",
    "- 18 bus bars\n",
    "\n",
    "- 7 loads\n",
    "\n",
    "- 12 cables\n",
    "\n",
    "This quantities are still manageable for copy parting all of the commands you learned in the previous steps but we will try to do this in a more automatic way using For loops\n"
   ]
  },
  {
   "cell_type": "markdown",
   "metadata": {},
   "source": [
    " ## making this process automatic relies in having DATA to read. I have already done this step in the exCel file that you find in canvas within this step"
   ]
  },
  {
   "cell_type": "markdown",
   "metadata": {},
   "source": [
    "## download the file called my_network and check the information in all the tabs:\n",
    "- my_lines\n",
    "- my_trafos\n",
    "- my_buses\n",
    "- my_loads\n",
    "- my_cables\n",
    "\n",
    "do they make sense to you with regards to the island one line diagram?"
   ]
  },
  {
   "cell_type": "markdown",
   "metadata": {},
   "source": [
    "## save the file in the same folder where you have THIS jupyter notebook (or the notebook where you are running the commands)"
   ]
  },
  {
   "cell_type": "markdown",
   "metadata": {},
   "source": [
    "# LOAD AND READ THE FILES HERE\n",
    "Most probably you will have to select the Python for the Kernel again"
   ]
  },
  {
   "cell_type": "code",
   "execution_count": 1,
   "metadata": {},
   "outputs": [],
   "source": [
    "import pandas as pd\n",
    "import openpyxl\n",
    "\n",
    "load_data=pd.read_excel('my_network.xlsx',sheet_name='my_loads') \n",
    "bus_data=pd.read_excel('my_network.xlsx',sheet_name='my_buses') \n",
    "trafo_data=pd.read_excel('my_network.xlsx',sheet_name='my_trafos') \n",
    "line_data=pd.read_excel('my_network.xlsx',sheet_name='my_lines') "
   ]
  },
  {
   "cell_type": "markdown",
   "metadata": {},
   "source": [
    "## Create a For loop (need it to do the network building automatic)\n",
    "Creating a for loop in python follows the same logic as in any other programming language. The only difference is the syntax.\n",
    "Have a look at the for loops below, I suggest you copy line by line and use the function \"PRINT\" progressively to know what is going on \"inside\" the For loop. Then make it more complex (adding more lines of code) as you go!"
   ]
  },
  {
   "cell_type": "code",
   "execution_count": 2,
   "metadata": {},
   "outputs": [
    {
     "name": "stdout",
     "output_type": "stream",
     "text": [
      "0\n",
      "1\n",
      "2\n",
      "3\n",
      "4\n",
      "5\n",
      "6\n",
      "7\n",
      "8\n",
      "9\n"
     ]
    }
   ],
   "source": [
    "# example of a simple for loop\n",
    "for m in range(0,10): #for the counter m which is in the range from 0 to 10...do a for loop\n",
    "    print(m)   # here I simply put the m counter to print so you see it is actually happening"
   ]
  },
  {
   "cell_type": "code",
   "execution_count": 3,
   "metadata": {},
   "outputs": [
    {
     "name": "stdout",
     "output_type": "stream",
     "text": [
      "0\n",
      "1\n",
      "2\n",
      "3\n",
      "4\n"
     ]
    }
   ],
   "source": [
    "# example of a for loop with dataframes (the data from above)\n",
    "for ind in trafo_data.index: # for the counter ind which is iterating over the indexes of the dataframe trafo_data\n",
    "    print(ind)"
   ]
  },
  {
   "cell_type": "code",
   "execution_count": 4,
   "metadata": {},
   "outputs": [
    {
     "name": "stdout",
     "output_type": "stream",
     "text": [
      "From\n",
      "To\n",
      "Name\n",
      "Type\n"
     ]
    }
   ],
   "source": [
    "for ind2 in trafo_data.columns: # for the counter ind2 that is iterating over the columns of the trafo_data datafrape\n",
    "    print(ind2)"
   ]
  },
  {
   "cell_type": "code",
   "execution_count": 5,
   "metadata": {},
   "outputs": [
    {
     "name": "stdout",
     "output_type": "stream",
     "text": [
      "Name          SS1_0\n",
      "Voltage_kV     11.0\n",
      "Name: 0, dtype: object\n",
      "Name          SS1_1\n",
      "Voltage_kV      0.4\n",
      "Name: 1, dtype: object\n",
      "Name          SS1_2\n",
      "Voltage_kV      0.4\n",
      "Name: 2, dtype: object\n",
      "Name          SS2_0\n",
      "Voltage_kV     11.0\n",
      "Name: 3, dtype: object\n",
      "Name          SS2_1\n",
      "Voltage_kV      0.4\n",
      "Name: 4, dtype: object\n",
      "Name          SS2_2\n",
      "Voltage_kV      0.4\n",
      "Name: 5, dtype: object\n",
      "Name          SS3_0\n",
      "Voltage_kV     11.0\n",
      "Name: 6, dtype: object\n",
      "Name          SS3_1\n",
      "Voltage_kV      0.4\n",
      "Name: 7, dtype: object\n",
      "Name          SS3_2\n",
      "Voltage_kV      0.4\n",
      "Name: 8, dtype: object\n",
      "Name          SS4_0\n",
      "Voltage_kV     11.0\n",
      "Name: 9, dtype: object\n",
      "Name          SS4_1\n",
      "Voltage_kV      0.4\n",
      "Name: 10, dtype: object\n",
      "Name          SS4_2\n",
      "Voltage_kV      0.4\n",
      "Name: 11, dtype: object\n",
      "Name          SS4_3\n",
      "Voltage_kV      0.4\n",
      "Name: 12, dtype: object\n",
      "Name          SS5_0\n",
      "Voltage_kV     11.0\n",
      "Name: 13, dtype: object\n",
      "Name          SS5_1\n",
      "Voltage_kV      0.4\n",
      "Name: 14, dtype: object\n",
      "Name          SS5_2\n",
      "Voltage_kV      0.4\n",
      "Name: 15, dtype: object\n",
      "Name          SS5_3\n",
      "Voltage_kV      0.4\n",
      "Name: 16, dtype: object\n",
      "Name            EG\n",
      "Voltage_kV    11.0\n",
      "Name: 17, dtype: object\n"
     ]
    }
   ],
   "source": [
    "for lidx, b in bus_data.iterrows(): \n",
    "    #this one is a bit more complew, the counter \"b\" has all info of one row of bus_data\n",
    "    #see what happens if you change to print(b.Name) below\n",
    "    print(b)"
   ]
  },
  {
   "cell_type": "markdown",
   "metadata": {},
   "source": [
    "You get the point :) if not...ask...below are more examples of for loops\n",
    "\n",
    "Remember: USE PRINT!, it helps to see what is going on!"
   ]
  },
  {
   "cell_type": "markdown",
   "metadata": {},
   "source": [
    "## Create actual network elements"
   ]
  },
  {
   "cell_type": "code",
   "execution_count": 7,
   "metadata": {},
   "outputs": [],
   "source": [
    "import pandapower as pp\n",
    "# empty network\n",
    "net=pp.create_empty_network()\n",
    "\n",
    "# buses\n",
    "for _, b in bus_data.iterrows(): \n",
    "    pp.create_bus(net, name=b.Name, vn_kv=b.Voltage_kV)\n",
    "    \n",
    "# lines\n",
    "for lidx, linerow in line_data.iterrows():\n",
    "    TB=line_data.To[lidx] \n",
    "    FB=line_data.From[lidx]\n",
    "    lin_name=line_data.Name[lidx]\n",
    "    lin_type=line_data.Type[lidx]\n",
    "    \n",
    "    A=net.bus.index[net.bus['name']==FB][0] #this is one way to access info in a dataframe\n",
    "    B=pp.get_element_index(net,\"bus\",TB) #this is a in-build funciton in pandapower that does the same\n",
    "    C=line_data.Length_kms[lidx]\n",
    "    \n",
    "    pp.create_line(net, from_bus=A, to_bus=B, length_km=C, std_type=lin_type, name=lin_name)\n",
    "    \n",
    "    \n",
    "# trafos\n",
    "for lidx, linerow in trafo_data.iterrows():\n",
    "    TB=trafo_data.To[lidx]\n",
    "    FB=trafo_data.From[lidx]\n",
    "    A=pp.get_element_index(net,\"bus\",FB)\n",
    "    B=pp.get_element_index(net,\"bus\",TB)\n",
    "    pp.create_transformer(net,A,B,name=trafo_data.Name[lidx],std_type=trafo_data.Type[lidx])\n",
    "\n",
    "    \n",
    "#external grid\n",
    "EG=pp.get_element_index(net,\"bus\",\"EG\")\n",
    "extgrid=pp.create_ext_grid(net,EG, voltage = 1.0, va_degree=0,name=\"External Grid\")"
   ]
  },
  {
   "cell_type": "markdown",
   "metadata": {},
   "source": [
    "see what I have built unit now:"
   ]
  },
  {
   "cell_type": "code",
   "execution_count": 8,
   "metadata": {},
   "outputs": [
    {
     "data": {
      "text/plain": [
       "This pandapower network includes the following parameter tables:\n",
       "   - bus (18 elements)\n",
       "   - ext_grid (1 element)\n",
       "   - line (12 elements)\n",
       "   - trafo (5 elements)"
      ]
     },
     "execution_count": 8,
     "metadata": {},
     "output_type": "execute_result"
    }
   ],
   "source": [
    "net"
   ]
  },
  {
   "cell_type": "markdown",
   "metadata": {},
   "source": [
    "only missing the loads, I will add them manually because I am lazy, but you can try to add them similar to the for loops above (e.g. use the \"load_data\" information)"
   ]
  },
  {
   "cell_type": "code",
   "execution_count": 9,
   "metadata": {},
   "outputs": [],
   "source": [
    "# loads\n",
    "load1=pp.create_load(net, bus=2, p_mw=0.10, q_mvar=0.01, name=\"Load 1\")\n",
    "load2=pp.create_load(net, bus=5, p_mw=0.10, q_mvar=0.01, name=\"Load 2\")\n",
    "load3=pp.create_load(net, bus=8, p_mw=0.10, q_mvar=0.01, name=\"Load 3\")\n",
    "load4=pp.create_load(net, bus=11, p_mw=0.10, q_mvar=0.01, name=\"Load 4\")\n",
    "load5=pp.create_load(net, bus=12, p_mw=0.05, q_mvar=0.01, name=\"Load 5\")\n",
    "load6=pp.create_load(net, bus=15, p_mw=0.10, q_mvar=0.01, name=\"Load 6\")\n",
    "load7=pp.create_load(net, bus=16, p_mw=0.04, q_mvar=0.01, name=\"Load 7\")"
   ]
  },
  {
   "cell_type": "code",
   "execution_count": 10,
   "metadata": {},
   "outputs": [
    {
     "data": {
      "text/plain": [
       "This pandapower network includes the following parameter tables:\n",
       "   - bus (18 elements)\n",
       "   - load (7 elements)\n",
       "   - ext_grid (1 element)\n",
       "   - line (12 elements)\n",
       "   - trafo (5 elements)"
      ]
     },
     "execution_count": 10,
     "metadata": {},
     "output_type": "execute_result"
    }
   ],
   "source": [
    "net"
   ]
  },
  {
   "cell_type": "markdown",
   "metadata": {},
   "source": [
    "# we now run a power flow of the network"
   ]
  },
  {
   "cell_type": "code",
   "execution_count": 11,
   "metadata": {},
   "outputs": [
    {
     "name": "stderr",
     "output_type": "stream",
     "text": [
      "numba cannot be imported and numba functions are disabled.\n",
      "Probably the execution is slow.\n",
      "Please install numba to gain a massive speedup.\n",
      "(or if you prefer slow execution, set the flag numba=False to avoid this warning!)\n"
     ]
    }
   ],
   "source": [
    "pp.runpp(net)"
   ]
  },
  {
   "cell_type": "code",
   "execution_count": 12,
   "metadata": {},
   "outputs": [
    {
     "data": {
      "text/plain": [
       "0    37.637761\n",
       "1    37.557112\n",
       "2    37.574006\n",
       "3    57.224455\n",
       "4    53.344826\n",
       "Name: loading_percent, dtype: float64"
      ]
     },
     "execution_count": 12,
     "metadata": {},
     "output_type": "execute_result"
    }
   ],
   "source": [
    "net.res_trafo.loading_percent #the results of the trafo tells us how much the trasformer is loaded"
   ]
  },
  {
   "cell_type": "code",
   "execution_count": 13,
   "metadata": {},
   "outputs": [
    {
     "data": {
      "text/plain": [
       "0     22.596635\n",
       "1     18.785473\n",
       "2     14.999044\n",
       "3     11.217329\n",
       "4      5.422297\n",
       "5     94.982476\n",
       "6     94.778417\n",
       "7     94.822787\n",
       "8     96.544597\n",
       "9     48.369390\n",
       "10    96.183294\n",
       "11    39.011609\n",
       "Name: loading_percent, dtype: float64"
      ]
     },
     "execution_count": 13,
     "metadata": {},
     "output_type": "execute_result"
    }
   ],
   "source": [
    "net.res_line.loading_percent #same for the lines"
   ]
  },
  {
   "cell_type": "markdown",
   "metadata": {},
   "source": [
    "# the load of some lines seems to be very high (>90%)"
   ]
  },
  {
   "cell_type": "markdown",
   "metadata": {},
   "source": [
    "we can reinforce the grid them by adding more cables"
   ]
  },
  {
   "cell_type": "code",
   "execution_count": 14,
   "metadata": {},
   "outputs": [
    {
     "data": {
      "text/plain": [
       "0     1\n",
       "1     1\n",
       "2     1\n",
       "3     1\n",
       "4     1\n",
       "5     1\n",
       "6     1\n",
       "7     1\n",
       "8     1\n",
       "9     1\n",
       "10    1\n",
       "11    1\n",
       "Name: parallel, dtype: uint32"
      ]
     },
     "execution_count": 14,
     "metadata": {},
     "output_type": "execute_result"
    }
   ],
   "source": [
    "#this parameter shows how many parallel cables you have in one line\n",
    "net.line.parallel"
   ]
  },
  {
   "cell_type": "code",
   "execution_count": 15,
   "metadata": {},
   "outputs": [],
   "source": [
    "#I change this number to 2 (reinforce the network)\n",
    "net.line.parallel.loc[5]=2\n",
    "net.line.parallel.loc[6]=2\n",
    "net.line.parallel.loc[7]=2\n",
    "net.line.parallel.loc[8]=2\n",
    "net.line.parallel.loc[10]=2"
   ]
  },
  {
   "cell_type": "code",
   "execution_count": 16,
   "metadata": {},
   "outputs": [
    {
     "data": {
      "text/plain": [
       "0     1\n",
       "1     1\n",
       "2     1\n",
       "3     1\n",
       "4     1\n",
       "5     2\n",
       "6     2\n",
       "7     2\n",
       "8     2\n",
       "9     1\n",
       "10    2\n",
       "11    1\n",
       "Name: parallel, dtype: uint32"
      ]
     },
     "execution_count": 16,
     "metadata": {},
     "output_type": "execute_result"
    }
   ],
   "source": [
    "#here you see the change\n",
    "net.line.parallel"
   ]
  },
  {
   "cell_type": "markdown",
   "metadata": {},
   "source": [
    "# run another power flow"
   ]
  },
  {
   "cell_type": "code",
   "execution_count": 17,
   "metadata": {},
   "outputs": [
    {
     "name": "stderr",
     "output_type": "stream",
     "text": [
      "numba cannot be imported and numba functions are disabled.\n",
      "Probably the execution is slow.\n",
      "Please install numba to gain a massive speedup.\n",
      "(or if you prefer slow execution, set the flag numba=False to avoid this warning!)\n"
     ]
    }
   ],
   "source": [
    "pp.runpp(net)"
   ]
  },
  {
   "cell_type": "code",
   "execution_count": 18,
   "metadata": {},
   "outputs": [
    {
     "data": {
      "text/plain": [
       "0     22.488818\n",
       "1     18.697879\n",
       "2     14.924862\n",
       "3     11.153293\n",
       "4      5.393988\n",
       "5     47.237908\n",
       "6     47.220591\n",
       "7     47.283772\n",
       "8     47.828571\n",
       "9     48.363720\n",
       "10    47.739956\n",
       "11    39.007447\n",
       "Name: loading_percent, dtype: float64"
      ]
     },
     "execution_count": 18,
     "metadata": {},
     "output_type": "execute_result"
    }
   ],
   "source": [
    "# check the line percentage\n",
    "net.res_line.loading_percent"
   ]
  },
  {
   "cell_type": "markdown",
   "metadata": {},
   "source": [
    "# HOW TO USE FOR LOOPS FOR RUNNING AN ENTIRE DAY?"
   ]
  },
  {
   "cell_type": "markdown",
   "metadata": {},
   "source": [
    "in the project you will be receiving your own network so you don't necesarily need to spend a lot of time automatizing how to build elements (since it only happens once and then is just possibily some reinforcing)\n",
    "\n",
    "however, it is important that you can run a TIMESERIES (the load changing hour per hour)"
   ]
  },
  {
   "cell_type": "markdown",
   "metadata": {},
   "source": [
    "pandapower has a very good functionality for running time series you can follow it in this tutorial:\n",
    "\n",
    "https://github.com/e2nIEE/pandapower/blob/develop/tutorials/time_series.ipynb "
   ]
  },
  {
   "cell_type": "markdown",
   "metadata": {},
   "source": [
    "if you have extra time one this tutorial we can do a quick loop over some random loads for this network, just let me know when you are in that step!"
   ]
  }
 ],
 "metadata": {
  "kernelspec": {
   "display_name": "Python 3",
   "language": "python",
   "name": "python3"
  },
  "language_info": {
   "codemirror_mode": {
    "name": "ipython",
    "version": 3
   },
   "file_extension": ".py",
   "mimetype": "text/x-python",
   "name": "python",
   "nbconvert_exporter": "python",
   "pygments_lexer": "ipython3",
   "version": "3.12.6"
  }
 },
 "nbformat": 4,
 "nbformat_minor": 4
}
