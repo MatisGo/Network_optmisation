{
 "cells": [
  {
   "cell_type": "markdown",
   "metadata": {},
   "source": [
    "# STEP 1\n",
    "In this step we simply follow parts of the pandapower minimal example\n",
    "\n"
   ]
  },
  {
   "cell_type": "markdown",
   "metadata": {},
   "source": [
    "# first we create the network from scratch\n",
    "these are the commands as they are needed in pandapower, you as a user have NO control over how these are written but you have control over which input you put in them...\n",
    "\n",
    "usually the things in 'green.yellow()' and 'blue =' below are your inputs and also how you decide to name the buses index: bus1 bus2 etc\n",
    "\n",
    "notice that for example we choose to connect the load in the bus whose index is bus3 and whose name is \"Bus 3\" (seems like I am speaking about the same things but it is not...try these variables below in the code and you will see"
   ]
  },
  {
   "cell_type": "code",
   "execution_count": 1,
   "metadata": {},
   "outputs": [],
   "source": [
    "## PRESS PLAY\n",
    "\n",
    "import pandapower as pp\n",
    "\n",
    "#create empty net\n",
    "net = pp.create_empty_network()\n",
    "\n",
    "#create buses\n",
    "bus1 = pp.create_bus(net, vn_kv=20., name=\"Bus 1\")\n",
    "bus2 = pp.create_bus(net, vn_kv=0.4, name=\"Bus 2\")\n",
    "bus3 = pp.create_bus(net, vn_kv=0.4, name=\"Bus 3\")\n",
    "\n",
    "#create bus elements\n",
    "pp.create_ext_grid(net, bus=bus1, vm_pu=1.02, name=\"Grid Connection\")\n",
    "pp.create_load(net, bus=bus3, p_mw=0.100, q_mvar=0.05, name=\"Load\")\n",
    "\n",
    "#create branch elements\n",
    "trafo = pp.create_transformer(net, hv_bus=bus1, lv_bus=bus2, std_type=\"0.4 MVA 20/0.4 kV\", name=\"Trafo\")\n",
    "line = pp.create_line(net, from_bus=bus2, to_bus=bus3, length_km=0.1, std_type=\"NAYY 4x50 SE\", name=\"Line\")"
   ]
  },
  {
   "cell_type": "code",
   "execution_count": 16,
   "metadata": {},
   "outputs": [
    {
     "data": {
      "text/plain": [
       "np.int64(2)"
      ]
     },
     "execution_count": 16,
     "metadata": {},
     "output_type": "execute_result"
    }
   ],
   "source": [
    "## PRESS PLAY AND YOU WILL CONTINUE TO PRESS PLAY IN ALL THE CELLS BELOW\n",
    "\n",
    "bus3 #this is simple the index of the bus named \"Bus 3\" (is the number of the element that pandapower attributes to it.\n",
    "# So, in this case bus3 with name 'Bus 3' has the index of 2 within the simulations.\n",
    "# This happens because python starts counting from 0."
   ]
  },
  {
   "cell_type": "markdown",
   "metadata": {},
   "source": [
    "# when we have the netwrok built we can check what we have in it in the following way:\n",
    "(you can try checking all the elements in your network I only checked two)"
   ]
  },
  {
   "cell_type": "code",
   "execution_count": 3,
   "metadata": {},
   "outputs": [
    {
     "data": {
      "text/html": [
       "<div>\n",
       "<style scoped>\n",
       "    .dataframe tbody tr th:only-of-type {\n",
       "        vertical-align: middle;\n",
       "    }\n",
       "\n",
       "    .dataframe tbody tr th {\n",
       "        vertical-align: top;\n",
       "    }\n",
       "\n",
       "    .dataframe thead th {\n",
       "        text-align: right;\n",
       "    }\n",
       "</style>\n",
       "<table border=\"1\" class=\"dataframe\">\n",
       "  <thead>\n",
       "    <tr style=\"text-align: right;\">\n",
       "      <th></th>\n",
       "      <th>name</th>\n",
       "      <th>vn_kv</th>\n",
       "      <th>type</th>\n",
       "      <th>zone</th>\n",
       "      <th>in_service</th>\n",
       "      <th>geo</th>\n",
       "    </tr>\n",
       "  </thead>\n",
       "  <tbody>\n",
       "    <tr>\n",
       "      <th>0</th>\n",
       "      <td>Bus 1</td>\n",
       "      <td>20.0</td>\n",
       "      <td>b</td>\n",
       "      <td>None</td>\n",
       "      <td>True</td>\n",
       "      <td>None</td>\n",
       "    </tr>\n",
       "    <tr>\n",
       "      <th>1</th>\n",
       "      <td>Bus 2</td>\n",
       "      <td>0.4</td>\n",
       "      <td>b</td>\n",
       "      <td>None</td>\n",
       "      <td>True</td>\n",
       "      <td>None</td>\n",
       "    </tr>\n",
       "    <tr>\n",
       "      <th>2</th>\n",
       "      <td>Bus 3</td>\n",
       "      <td>0.4</td>\n",
       "      <td>b</td>\n",
       "      <td>None</td>\n",
       "      <td>True</td>\n",
       "      <td>None</td>\n",
       "    </tr>\n",
       "  </tbody>\n",
       "</table>\n",
       "</div>"
      ],
      "text/plain": [
       "    name  vn_kv type  zone  in_service   geo\n",
       "0  Bus 1   20.0    b  None        True  None\n",
       "1  Bus 2    0.4    b  None        True  None\n",
       "2  Bus 3    0.4    b  None        True  None"
      ]
     },
     "execution_count": 3,
     "metadata": {},
     "output_type": "execute_result"
    }
   ],
   "source": [
    "net.bus #your bus bars and their attributes, here again you see that \"Bus 3\" is in the position \"2\" this is what I meant before"
   ]
  },
  {
   "cell_type": "code",
   "execution_count": 4,
   "metadata": {},
   "outputs": [
    {
     "data": {
      "text/html": [
       "<div>\n",
       "<style scoped>\n",
       "    .dataframe tbody tr th:only-of-type {\n",
       "        vertical-align: middle;\n",
       "    }\n",
       "\n",
       "    .dataframe tbody tr th {\n",
       "        vertical-align: top;\n",
       "    }\n",
       "\n",
       "    .dataframe thead th {\n",
       "        text-align: right;\n",
       "    }\n",
       "</style>\n",
       "<table border=\"1\" class=\"dataframe\">\n",
       "  <thead>\n",
       "    <tr style=\"text-align: right;\">\n",
       "      <th></th>\n",
       "      <th>name</th>\n",
       "      <th>std_type</th>\n",
       "      <th>from_bus</th>\n",
       "      <th>to_bus</th>\n",
       "      <th>length_km</th>\n",
       "      <th>r_ohm_per_km</th>\n",
       "      <th>x_ohm_per_km</th>\n",
       "      <th>c_nf_per_km</th>\n",
       "      <th>g_us_per_km</th>\n",
       "      <th>max_i_ka</th>\n",
       "      <th>df</th>\n",
       "      <th>parallel</th>\n",
       "      <th>type</th>\n",
       "      <th>in_service</th>\n",
       "      <th>geo</th>\n",
       "    </tr>\n",
       "  </thead>\n",
       "  <tbody>\n",
       "    <tr>\n",
       "      <th>0</th>\n",
       "      <td>Line</td>\n",
       "      <td>NAYY 4x50 SE</td>\n",
       "      <td>1</td>\n",
       "      <td>2</td>\n",
       "      <td>0.1</td>\n",
       "      <td>0.642</td>\n",
       "      <td>0.083</td>\n",
       "      <td>210.0</td>\n",
       "      <td>0.0</td>\n",
       "      <td>0.142</td>\n",
       "      <td>1.0</td>\n",
       "      <td>1</td>\n",
       "      <td>cs</td>\n",
       "      <td>True</td>\n",
       "      <td>NaN</td>\n",
       "    </tr>\n",
       "  </tbody>\n",
       "</table>\n",
       "</div>"
      ],
      "text/plain": [
       "   name      std_type  from_bus  to_bus  length_km  r_ohm_per_km  \\\n",
       "0  Line  NAYY 4x50 SE         1       2        0.1         0.642   \n",
       "\n",
       "   x_ohm_per_km  c_nf_per_km  g_us_per_km  max_i_ka   df  parallel type  \\\n",
       "0         0.083        210.0          0.0     0.142  1.0         1   cs   \n",
       "\n",
       "   in_service  geo  \n",
       "0        True  NaN  "
      ]
     },
     "execution_count": 4,
     "metadata": {},
     "output_type": "execute_result"
    }
   ],
   "source": [
    "net.line #your lines and properties"
   ]
  },
  {
   "cell_type": "code",
   "execution_count": 5,
   "metadata": {},
   "outputs": [
    {
     "data": {
      "text/plain": [
       "This pandapower network includes the following parameter tables:\n",
       "   - bus (3 elements)\n",
       "   - load (1 element)\n",
       "   - ext_grid (1 element)\n",
       "   - line (1 element)\n",
       "   - trafo (1 element)"
      ]
     },
     "execution_count": 5,
     "metadata": {},
     "output_type": "execute_result"
    }
   ],
   "source": [
    "net #these are all the things you can check: net.bus, net.line, net.load, etc."
   ]
  },
  {
   "cell_type": "markdown",
   "metadata": {},
   "source": [
    "# One a network is built this is how you run a power flow:"
   ]
  },
  {
   "cell_type": "code",
   "execution_count": 17,
   "metadata": {},
   "outputs": [
    {
     "name": "stderr",
     "output_type": "stream",
     "text": [
      "numba cannot be imported and numba functions are disabled.\n",
      "Probably the execution is slow.\n",
      "Please install numba to gain a massive speedup.\n",
      "(or if you prefer slow execution, set the flag numba=False to avoid this warning!)\n"
     ]
    }
   ],
   "source": [
    "pp.runpp(net)"
   ]
  },
  {
   "cell_type": "markdown",
   "metadata": {},
   "source": [
    "## ....and now we have more things to check, all the \"res\" tables are results (that we did not have before)\n",
    "check what results you got, does it make sense? (how big was the load and how much energy are we drawing from the external grid?)"
   ]
  },
  {
   "cell_type": "code",
   "execution_count": 7,
   "metadata": {},
   "outputs": [
    {
     "data": {
      "text/plain": [
       "This pandapower network includes the following parameter tables:\n",
       "   - bus (3 elements)\n",
       "   - load (1 element)\n",
       "   - ext_grid (1 element)\n",
       "   - line (1 element)\n",
       "   - trafo (1 element)\n",
       " and the following results tables:\n",
       "   - res_bus (3 elements)\n",
       "   - res_line (1 element)\n",
       "   - res_trafo (1 element)\n",
       "   - res_ext_grid (1 element)\n",
       "   - res_load (1 element)"
      ]
     },
     "execution_count": 7,
     "metadata": {},
     "output_type": "execute_result"
    }
   ],
   "source": [
    "net"
   ]
  },
  {
   "cell_type": "code",
   "execution_count": 8,
   "metadata": {},
   "outputs": [
    {
     "data": {
      "text/html": [
       "<div>\n",
       "<style scoped>\n",
       "    .dataframe tbody tr th:only-of-type {\n",
       "        vertical-align: middle;\n",
       "    }\n",
       "\n",
       "    .dataframe tbody tr th {\n",
       "        vertical-align: top;\n",
       "    }\n",
       "\n",
       "    .dataframe thead th {\n",
       "        text-align: right;\n",
       "    }\n",
       "</style>\n",
       "<table border=\"1\" class=\"dataframe\">\n",
       "  <thead>\n",
       "    <tr style=\"text-align: right;\">\n",
       "      <th></th>\n",
       "      <th>p_mw</th>\n",
       "      <th>q_mvar</th>\n",
       "    </tr>\n",
       "  </thead>\n",
       "  <tbody>\n",
       "    <tr>\n",
       "      <th>0</th>\n",
       "      <td>0.1</td>\n",
       "      <td>0.05</td>\n",
       "    </tr>\n",
       "  </tbody>\n",
       "</table>\n",
       "</div>"
      ],
      "text/plain": [
       "   p_mw  q_mvar\n",
       "0   0.1    0.05"
      ]
     },
     "execution_count": 8,
     "metadata": {},
     "output_type": "execute_result"
    }
   ],
   "source": [
    "net.res_load"
   ]
  },
  {
   "cell_type": "code",
   "execution_count": 9,
   "metadata": {},
   "outputs": [
    {
     "data": {
      "text/html": [
       "<div>\n",
       "<style scoped>\n",
       "    .dataframe tbody tr th:only-of-type {\n",
       "        vertical-align: middle;\n",
       "    }\n",
       "\n",
       "    .dataframe tbody tr th {\n",
       "        vertical-align: top;\n",
       "    }\n",
       "\n",
       "    .dataframe thead th {\n",
       "        text-align: right;\n",
       "    }\n",
       "</style>\n",
       "<table border=\"1\" class=\"dataframe\">\n",
       "  <thead>\n",
       "    <tr style=\"text-align: right;\">\n",
       "      <th></th>\n",
       "      <th>p_mw</th>\n",
       "      <th>q_mvar</th>\n",
       "    </tr>\n",
       "  </thead>\n",
       "  <tbody>\n",
       "    <tr>\n",
       "      <th>0</th>\n",
       "      <td>0.107265</td>\n",
       "      <td>0.052675</td>\n",
       "    </tr>\n",
       "  </tbody>\n",
       "</table>\n",
       "</div>"
      ],
      "text/plain": [
       "       p_mw    q_mvar\n",
       "0  0.107265  0.052675"
      ]
     },
     "execution_count": 9,
     "metadata": {},
     "output_type": "execute_result"
    }
   ],
   "source": [
    "net.res_ext_grid"
   ]
  },
  {
   "cell_type": "markdown",
   "metadata": {},
   "source": [
    "## accessing numbers\n",
    "here I just show you how to access the values of some of your dataframes"
   ]
  },
  {
   "cell_type": "code",
   "execution_count": 10,
   "metadata": {},
   "outputs": [
    {
     "data": {
      "text/html": [
       "<div>\n",
       "<style scoped>\n",
       "    .dataframe tbody tr th:only-of-type {\n",
       "        vertical-align: middle;\n",
       "    }\n",
       "\n",
       "    .dataframe tbody tr th {\n",
       "        vertical-align: top;\n",
       "    }\n",
       "\n",
       "    .dataframe thead th {\n",
       "        text-align: right;\n",
       "    }\n",
       "</style>\n",
       "<table border=\"1\" class=\"dataframe\">\n",
       "  <thead>\n",
       "    <tr style=\"text-align: right;\">\n",
       "      <th></th>\n",
       "      <th>name</th>\n",
       "      <th>vn_kv</th>\n",
       "      <th>type</th>\n",
       "      <th>zone</th>\n",
       "      <th>in_service</th>\n",
       "      <th>geo</th>\n",
       "    </tr>\n",
       "  </thead>\n",
       "  <tbody>\n",
       "    <tr>\n",
       "      <th>0</th>\n",
       "      <td>Bus 1</td>\n",
       "      <td>20.0</td>\n",
       "      <td>b</td>\n",
       "      <td>None</td>\n",
       "      <td>True</td>\n",
       "      <td>None</td>\n",
       "    </tr>\n",
       "    <tr>\n",
       "      <th>1</th>\n",
       "      <td>Bus 2</td>\n",
       "      <td>0.4</td>\n",
       "      <td>b</td>\n",
       "      <td>None</td>\n",
       "      <td>True</td>\n",
       "      <td>None</td>\n",
       "    </tr>\n",
       "    <tr>\n",
       "      <th>2</th>\n",
       "      <td>Bus 3</td>\n",
       "      <td>0.4</td>\n",
       "      <td>b</td>\n",
       "      <td>None</td>\n",
       "      <td>True</td>\n",
       "      <td>None</td>\n",
       "    </tr>\n",
       "  </tbody>\n",
       "</table>\n",
       "</div>"
      ],
      "text/plain": [
       "    name  vn_kv type  zone  in_service   geo\n",
       "0  Bus 1   20.0    b  None        True  None\n",
       "1  Bus 2    0.4    b  None        True  None\n",
       "2  Bus 3    0.4    b  None        True  None"
      ]
     },
     "execution_count": 10,
     "metadata": {},
     "output_type": "execute_result"
    }
   ],
   "source": [
    "net.bus #I will use this dataframe as an example"
   ]
  },
  {
   "cell_type": "code",
   "execution_count": 11,
   "metadata": {},
   "outputs": [
    {
     "data": {
      "text/plain": [
       "pandas.core.frame.DataFrame"
      ]
     },
     "execution_count": 11,
     "metadata": {},
     "output_type": "execute_result"
    }
   ],
   "source": [
    "type(net.bus) #this is a dataframe, this is how you check in case you don't know"
   ]
  },
  {
   "cell_type": "code",
   "execution_count": 12,
   "metadata": {},
   "outputs": [
    {
     "data": {
      "text/plain": [
       "name          Bus 3\n",
       "vn_kv           0.4\n",
       "type              b\n",
       "zone           None\n",
       "in_service     True\n",
       "geo            None\n",
       "Name: 2, dtype: object"
      ]
     },
     "execution_count": 12,
     "metadata": {},
     "output_type": "execute_result"
    }
   ],
   "source": [
    "net.bus.loc[2] #here I am checking the element 2 of that dataframe (which is \"Bus 3\")"
   ]
  },
  {
   "cell_type": "code",
   "execution_count": 13,
   "metadata": {},
   "outputs": [
    {
     "data": {
      "text/plain": [
       "0    20.0\n",
       "1     0.4\n",
       "2     0.4\n",
       "Name: vn_kv, dtype: float64"
      ]
     },
     "execution_count": 13,
     "metadata": {},
     "output_type": "execute_result"
    }
   ],
   "source": [
    "net.bus['vn_kv'] #here I am checking the column \"vn_kv\" of the dataframe, I could also just write: net.bus.vn_kv"
   ]
  },
  {
   "cell_type": "code",
   "execution_count": 14,
   "metadata": {},
   "outputs": [
    {
     "name": "stderr",
     "output_type": "stream",
     "text": [
      "C:\\Users\\matis\\AppData\\Local\\Temp\\ipykernel_26176\\2937173679.py:6: FutureWarning: Calling float on a single element Series is deprecated and will raise a TypeError in the future. Use float(ser.iloc[0]) instead\n",
      "  mth.sqrt(net.res_load.p_mw**2+net.res_load.q_mvar**2)-mth.sqrt(net.res_ext_grid.p_mw**2+net.res_ext_grid.q_mvar**2)\n"
     ]
    },
    {
     "data": {
      "text/plain": [
       "-0.00769781527465925"
      ]
     },
     "execution_count": 14,
     "metadata": {},
     "output_type": "execute_result"
    }
   ],
   "source": [
    "import math as mth \n",
    "#here I am calculating the apparent power of the loads and the apparent power on the external grid \n",
    "#and seeing how much were the losses in the system\n",
    "#does ther question below makes sense to you? if not ask :)\n",
    "\n",
    "mth.sqrt(net.res_load.p_mw**2+net.res_load.q_mvar**2)-mth.sqrt(net.res_ext_grid.p_mw**2+net.res_ext_grid.q_mvar**2)\n"
   ]
  },
  {
   "cell_type": "markdown",
   "metadata": {},
   "source": [
    "# More info here:\n",
    "https://github.com/e2nIEE/pandapower/blob/master/tutorials/minimal_example.ipynb\n",
    "\n",
    "you don't need to do this whole tutorial as long as you understand the basics that I wrote in this notebook, but I do think that the part called \"Switches\" can be useful later for the project (check it out now if you have time or leave it for later and move one to the next step in the tutorial)"
   ]
  }
 ],
 "metadata": {
  "kernelspec": {
   "display_name": "Python 3",
   "language": "python",
   "name": "python3"
  },
  "language_info": {
   "codemirror_mode": {
    "name": "ipython",
    "version": 3
   },
   "file_extension": ".py",
   "mimetype": "text/x-python",
   "name": "python",
   "nbconvert_exporter": "python",
   "pygments_lexer": "ipython3",
   "version": "3.12.6"
  }
 },
 "nbformat": 4,
 "nbformat_minor": 4
}
